{
 "cells": [
  {
   "cell_type": "code",
   "execution_count": 1,
   "metadata": {
    "collapsed": true
   },
   "outputs": [],
   "source": [
    "import pandas as pd"
   ]
  },
  {
   "cell_type": "code",
   "execution_count": 4,
   "outputs": [
    {
     "name": "stdout",
     "output_type": "stream",
     "text": [
      "<class 'pandas.core.frame.DataFrame'>\n",
      "Int64Index: 3938 entries, 0 to 3937\n",
      "Data columns (total 3 columns):\n",
      " #   Column      Non-Null Count  Dtype \n",
      "---  ------      --------------  ----- \n",
      " 0   Unnamed: 0  3938 non-null   int64 \n",
      " 1   title       3938 non-null   object\n",
      " 2   reviews     3938 non-null   object\n",
      "dtypes: int64(1), object(2)\n",
      "memory usage: 123.1+ KB\n"
     ]
    }
   ],
   "source": [
    "df = pd.read_csv('./crawling_data/reviews_2019_21_43.csv')\n",
    "df.duplicated().sum()\n",
    "df.drop_duplicates(inplace=True)\n",
    "df.info()"
   ],
   "metadata": {
    "collapsed": false,
    "pycharm": {
     "name": "#%%\n"
    }
   }
  },
  {
   "cell_type": "code",
   "execution_count": 5,
   "outputs": [
    {
     "data": {
      "text/plain": "             title                                            reviews\n0               선물  영화 선물(2019) \\n주연 신하균  수호  김슬기  유수빈 \\n10월28일 개봉...\n1               선물  영화 <선물> 비평\\n- 글 : 박춘봉\\n  영화 <선물>은 광고물 아닌 것 같이 ...\n2               선물  영화 <선물> 비평\\n  - 글 : 김영수\\n  하고 싶은 일  이루고 싶은 꿈이 ...\n3           선희와 슬기  영화 선희와 슬기를 GV 시사회로 보앗네요\\n예고편을 보면 여주인 선희의 거짓말때문...\n4           선희와 슬기  영화 선희와 슬기 시사회 리뷰 입니다.\\n\\n\\n거짓말을 멈출수 없었던 소녀의 이야...\n...            ...                                                ...\n3933  힘을 내요  미스터 리  나  참... 살다 살다 또 이런 영화는 처음? 아니 오래간만인듯요.\\n영화관 들어...\n3934  힘을 내요  미스터 리  제목으로 낚시해서 죄송합니다. 복선 부연설명 같은건 없습니다.\\n(저는 각종 편법은...\n3935  힘을 내요  미스터 리  힘을 내요  미스터 리\\n감독\\n이계벽\\n출연\\n차승원  엄채영  박해준\\n개봉\\n...\n3936  힘을 내요  미스터 리  소방관이었다가 대구지하철사고 투입 후 정신지체장애를 갖게 된 정의로운 철수(차승원)...\n3937  힘을 내요  미스터 리  일단 지루합니다..   사건전개도 매우 루즈해서 잠이 쏟아집니다.  \\n\\n하다못해...\n\n[3938 rows x 2 columns]",
      "text/html": "<div>\n<style scoped>\n    .dataframe tbody tr th:only-of-type {\n        vertical-align: middle;\n    }\n\n    .dataframe tbody tr th {\n        vertical-align: top;\n    }\n\n    .dataframe thead th {\n        text-align: right;\n    }\n</style>\n<table border=\"1\" class=\"dataframe\">\n  <thead>\n    <tr style=\"text-align: right;\">\n      <th></th>\n      <th>title</th>\n      <th>reviews</th>\n    </tr>\n  </thead>\n  <tbody>\n    <tr>\n      <th>0</th>\n      <td>선물</td>\n      <td>영화 선물(2019) \\n주연 신하균  수호  김슬기  유수빈 \\n10월28일 개봉...</td>\n    </tr>\n    <tr>\n      <th>1</th>\n      <td>선물</td>\n      <td>영화 &lt;선물&gt; 비평\\n- 글 : 박춘봉\\n  영화 &lt;선물&gt;은 광고물 아닌 것 같이 ...</td>\n    </tr>\n    <tr>\n      <th>2</th>\n      <td>선물</td>\n      <td>영화 &lt;선물&gt; 비평\\n  - 글 : 김영수\\n  하고 싶은 일  이루고 싶은 꿈이 ...</td>\n    </tr>\n    <tr>\n      <th>3</th>\n      <td>선희와 슬기</td>\n      <td>영화 선희와 슬기를 GV 시사회로 보앗네요\\n예고편을 보면 여주인 선희의 거짓말때문...</td>\n    </tr>\n    <tr>\n      <th>4</th>\n      <td>선희와 슬기</td>\n      <td>영화 선희와 슬기 시사회 리뷰 입니다.\\n\\n\\n거짓말을 멈출수 없었던 소녀의 이야...</td>\n    </tr>\n    <tr>\n      <th>...</th>\n      <td>...</td>\n      <td>...</td>\n    </tr>\n    <tr>\n      <th>3933</th>\n      <td>힘을 내요  미스터 리</td>\n      <td>나  참... 살다 살다 또 이런 영화는 처음? 아니 오래간만인듯요.\\n영화관 들어...</td>\n    </tr>\n    <tr>\n      <th>3934</th>\n      <td>힘을 내요  미스터 리</td>\n      <td>제목으로 낚시해서 죄송합니다. 복선 부연설명 같은건 없습니다.\\n(저는 각종 편법은...</td>\n    </tr>\n    <tr>\n      <th>3935</th>\n      <td>힘을 내요  미스터 리</td>\n      <td>힘을 내요  미스터 리\\n감독\\n이계벽\\n출연\\n차승원  엄채영  박해준\\n개봉\\n...</td>\n    </tr>\n    <tr>\n      <th>3936</th>\n      <td>힘을 내요  미스터 리</td>\n      <td>소방관이었다가 대구지하철사고 투입 후 정신지체장애를 갖게 된 정의로운 철수(차승원)...</td>\n    </tr>\n    <tr>\n      <th>3937</th>\n      <td>힘을 내요  미스터 리</td>\n      <td>일단 지루합니다..   사건전개도 매우 루즈해서 잠이 쏟아집니다.  \\n\\n하다못해...</td>\n    </tr>\n  </tbody>\n</table>\n<p>3938 rows × 2 columns</p>\n</div>"
     },
     "execution_count": 5,
     "metadata": {},
     "output_type": "execute_result"
    }
   ],
   "source": [
    "df = df[['title','reviews']]\n",
    "df"
   ],
   "metadata": {
    "collapsed": false,
    "pycharm": {
     "name": "#%%\n"
    }
   }
  },
  {
   "cell_type": "code",
   "execution_count": 6,
   "outputs": [
    {
     "name": "stdout",
     "output_type": "stream",
     "text": [
      "                    title                                            reviews\n",
      "0                      선물  영화 선물(2019) \\n주연 신하균  수호  김슬기  유수빈 \\n10월28일 개봉...\n",
      "1                  선희와 슬기  영화 선희와 슬기를 GV 시사회로 보앗네요\\n예고편을 보면 여주인 선희의 거짓말때문...\n",
      "2              세상을 바꾼 변호인  * 주의 이 글은 스포를 담고 있습니다.\\n\\n필자는 영화에 관하여 리뷰하기 이전에...\n",
      "3        소피와 드래곤: 마법책의 비밀  애니메이션 소피와 드래곤 시사회 초대권 4장을 드려요 => https://hoy.k...\n",
      "4            소희의은근히꼴리는사생활  소희의은근히꼴리는사생활\\n감독\\n김이슬\\n출연\\n안소희  민도윤\\n개봉\\n2019....\n",
      "..                    ...                                                ...\n",
      "302            화이트 라이언 찰리   \\nMia et le lion blanc\\nMia and the White Lio...\n",
      "303  회사직원과 남편 몰래 흥분하는 청순녀  신혼집을 구하기 위해 집을 보러 다니던 ‘이마이 마이’는 지금은 부동산 중개인이 된...\n",
      "304             후로티로봇 극장판  세상을 구할 특별한 영웅들의 달/콤/용/감/한 어드벤처 애니메이션!\\n<후로티로봇 ...\n",
      "305                 히치하이크    홀로서기를 위한 노래들이 범람한다는 것은  의존할 수 있는 거대한 대상에 대한 ...\n",
      "306          힘을 내요  미스터 리  먹어봐 개 맛있어\\n- 영화 힘을내요 미스터리 차승원 대사중에서-\\n  ☆ 프롤로그...\n",
      "\n",
      "[307 rows x 2 columns]\n"
     ]
    }
   ],
   "source": [
    "one_sentences = []\n",
    "for title in df['title'].unique():\n",
    "    temp = df[df['title']==title]\n",
    "    temp = temp['reviews']\n",
    "    one_sentence = ' ' .join(temp)\n",
    "    one_sentences.append(one_sentence)\n",
    "df_one_sentences = pd.DataFrame( {\"title\":df[\"title\"].unique() , 'reviews':one_sentences})\n",
    "print(df_one_sentences)\n",
    "df_one_sentences.to_csv('./crawling_data/movie_reviews_onesentence_2018_2022.csv',index=False)\n",
    "\n"
   ],
   "metadata": {
    "collapsed": false,
    "pycharm": {
     "name": "#%%\n"
    }
   }
  },
  {
   "cell_type": "code",
   "execution_count": 3,
   "outputs": [],
   "source": [],
   "metadata": {
    "collapsed": false,
    "pycharm": {
     "name": "#%%\n"
    }
   }
  },
  {
   "cell_type": "code",
   "execution_count": 3,
   "outputs": [],
   "source": [],
   "metadata": {
    "collapsed": false,
    "pycharm": {
     "name": "#%%\n"
    }
   }
  }
 ],
 "metadata": {
  "kernelspec": {
   "display_name": "Python 3",
   "language": "python",
   "name": "python3"
  },
  "language_info": {
   "codemirror_mode": {
    "name": "ipython",
    "version": 2
   },
   "file_extension": ".py",
   "mimetype": "text/x-python",
   "name": "python",
   "nbconvert_exporter": "python",
   "pygments_lexer": "ipython2",
   "version": "2.7.6"
  }
 },
 "nbformat": 4,
 "nbformat_minor": 0
}