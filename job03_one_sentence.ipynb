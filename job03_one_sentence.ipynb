{
 "cells": [
  {
   "cell_type": "code",
   "execution_count": 6,
   "metadata": {
    "collapsed": true
   },
   "outputs": [],
   "source": [
    "import pandas as pd"
   ]
  },
  {
   "cell_type": "code",
   "execution_count": 7,
   "outputs": [
    {
     "name": "stdout",
     "output_type": "stream",
     "text": [
      "<class 'pandas.core.frame.DataFrame'>\n",
      "Int64Index: 3634 entries, 0 to 3932\n",
      "Data columns (total 2 columns):\n",
      " #   Column             Non-Null Count  Dtype \n",
      "---  ------             --------------  ----- \n",
      " 0   title              3634 non-null   object\n",
      " 1   cleaned_sentences  3634 non-null   object\n",
      "dtypes: object(2)\n",
      "memory usage: 85.2+ KB\n"
     ]
    }
   ],
   "source": [
    "df = pd.read_csv('./crawling_data/cleaned_review_2019_21_43.csv')\n",
    "df.duplicated().sum()\n",
    "df.drop_duplicates(inplace=True)\n",
    "df.info()"
   ],
   "metadata": {
    "collapsed": false,
    "pycharm": {
     "name": "#%%\n"
    }
   }
  },
  {
   "cell_type": "code",
   "execution_count": 7,
   "outputs": [],
   "source": [],
   "metadata": {
    "collapsed": false,
    "pycharm": {
     "name": "#%%\n"
    }
   }
  },
  {
   "cell_type": "code",
   "execution_count": 8,
   "outputs": [
    {
     "name": "stdout",
     "output_type": "stream",
     "text": [
      "                    title                                  cleaned_sentences\n",
      "0                      선물  영화 선물 주연 신하균 수호 김슬기 유수빈 월일 개봉 감독 허진호 영화 분도 안되다...\n",
      "1                  선희와 슬기  영화 선희 슬기 시사회 보다 예고편 여주 선희 거짓말 때문 벌어지다 이야기 보이다 ...\n",
      "2              세상을 바꾼 변호인  주의 글 스포 담다 있다 필자 영화 리뷰 하다 이전 제목 고민 해보다 왜 제목 이다...\n",
      "3        소피와 드래곤: 마법책의 비밀  애니메이션 피 드래곤 시사회 초대권 장 드리다 애니메이션 피 드래곤 시사회 초대권 ...\n",
      "4            소희의은근히꼴리는사생활  소희 은근 꼴리다 사생활 감독 김이슬 출연 안소희 민 도윤 개봉 대한민국 평점 리뷰...\n",
      "..                    ...                                                ...\n",
      "302            화이트 라이언 찰리  프랑스인 감독 영화 음악 자연 사자 연기 훌륭하다 원제 미아 희다 사자 번역 되다 ...\n",
      "303  회사직원과 남편 몰래 흥분하는 청순녀  신혼집 구 하다 집 보다 다니다 이마이 마이 지금 부동산 중개인 자신 학창시절 동경...\n",
      "304             후로티로봇 극장판  세상 구 하다 특별하다 영웅 달콤 용감하다 어드벤처 애니메이션 후 로티 로봇 극장판...\n",
      "305                 히치하이크  홀로 서기 위 노래 범람 것 의존 하다 거대하다 대상 희구 여전하다 포기 되다 않다...\n",
      "306          힘을 내요  미스터 리  먹다 보다 맛있다 영화 힘 요 미스터리 차승원 대사 프롤로그 추석 개봉 영화 유일하...\n",
      "\n",
      "[307 rows x 2 columns]\n"
     ]
    }
   ],
   "source": [
    "one_sentences = []\n",
    "for title in df['title'].unique():\n",
    "    temp = df[df['title']==title]\n",
    "    temp = temp['cleaned_sentences']\n",
    "    one_sentence = ' ' .join(temp)\n",
    "    one_sentences.append(one_sentence)\n",
    "df_one_sentences = pd.DataFrame( {\"title\":df[\"title\"].unique() , 'cleaned_sentences':one_sentences})\n",
    "print(df_one_sentences)\n",
    "df_one_sentences.to_csv('./crawling_data/movie_reviews_onesentence_2019_21_43.csv',index=False)\n",
    "\n"
   ],
   "metadata": {
    "collapsed": false,
    "pycharm": {
     "name": "#%%\n"
    }
   }
  },
  {
   "cell_type": "code",
   "execution_count": 10,
   "outputs": [
    {
     "data": {
      "text/plain": "                    title                                  cleaned_sentences\n0                      선물  영화 선물 주연 신하균 수호 김슬기 유수빈 월일 개봉 감독 허진호 영화 분도 안되다...\n1                  선희와 슬기  영화 선희 슬기 시사회 보다 예고편 여주 선희 거짓말 때문 벌어지다 이야기 보이다 ...\n2              세상을 바꾼 변호인  주의 글 스포 담다 있다 필자 영화 리뷰 하다 이전 제목 고민 해보다 왜 제목 이다...\n3        소피와 드래곤: 마법책의 비밀  애니메이션 피 드래곤 시사회 초대권 장 드리다 애니메이션 피 드래곤 시사회 초대권 ...\n4            소희의은근히꼴리는사생활  소희 은근 꼴리다 사생활 감독 김이슬 출연 안소희 민 도윤 개봉 대한민국 평점 리뷰...\n..                    ...                                                ...\n302            화이트 라이언 찰리  프랑스인 감독 영화 음악 자연 사자 연기 훌륭하다 원제 미아 희다 사자 번역 되다 ...\n303  회사직원과 남편 몰래 흥분하는 청순녀  신혼집 구 하다 집 보다 다니다 이마이 마이 지금 부동산 중개인 자신 학창시절 동경...\n304             후로티로봇 극장판  세상 구 하다 특별하다 영웅 달콤 용감하다 어드벤처 애니메이션 후 로티 로봇 극장판...\n305                 히치하이크  홀로 서기 위 노래 범람 것 의존 하다 거대하다 대상 희구 여전하다 포기 되다 않다...\n306          힘을 내요  미스터 리  먹다 보다 맛있다 영화 힘 요 미스터리 차승원 대사 프롤로그 추석 개봉 영화 유일하...\n\n[307 rows x 2 columns]",
      "text/html": "<div>\n<style scoped>\n    .dataframe tbody tr th:only-of-type {\n        vertical-align: middle;\n    }\n\n    .dataframe tbody tr th {\n        vertical-align: top;\n    }\n\n    .dataframe thead th {\n        text-align: right;\n    }\n</style>\n<table border=\"1\" class=\"dataframe\">\n  <thead>\n    <tr style=\"text-align: right;\">\n      <th></th>\n      <th>title</th>\n      <th>cleaned_sentences</th>\n    </tr>\n  </thead>\n  <tbody>\n    <tr>\n      <th>0</th>\n      <td>선물</td>\n      <td>영화 선물 주연 신하균 수호 김슬기 유수빈 월일 개봉 감독 허진호 영화 분도 안되다...</td>\n    </tr>\n    <tr>\n      <th>1</th>\n      <td>선희와 슬기</td>\n      <td>영화 선희 슬기 시사회 보다 예고편 여주 선희 거짓말 때문 벌어지다 이야기 보이다 ...</td>\n    </tr>\n    <tr>\n      <th>2</th>\n      <td>세상을 바꾼 변호인</td>\n      <td>주의 글 스포 담다 있다 필자 영화 리뷰 하다 이전 제목 고민 해보다 왜 제목 이다...</td>\n    </tr>\n    <tr>\n      <th>3</th>\n      <td>소피와 드래곤: 마법책의 비밀</td>\n      <td>애니메이션 피 드래곤 시사회 초대권 장 드리다 애니메이션 피 드래곤 시사회 초대권 ...</td>\n    </tr>\n    <tr>\n      <th>4</th>\n      <td>소희의은근히꼴리는사생활</td>\n      <td>소희 은근 꼴리다 사생활 감독 김이슬 출연 안소희 민 도윤 개봉 대한민국 평점 리뷰...</td>\n    </tr>\n    <tr>\n      <th>...</th>\n      <td>...</td>\n      <td>...</td>\n    </tr>\n    <tr>\n      <th>302</th>\n      <td>화이트 라이언 찰리</td>\n      <td>프랑스인 감독 영화 음악 자연 사자 연기 훌륭하다 원제 미아 희다 사자 번역 되다 ...</td>\n    </tr>\n    <tr>\n      <th>303</th>\n      <td>회사직원과 남편 몰래 흥분하는 청순녀</td>\n      <td>신혼집 구 하다 집 보다 다니다 이마이 마이 지금 부동산 중개인 자신 학창시절 동경...</td>\n    </tr>\n    <tr>\n      <th>304</th>\n      <td>후로티로봇 극장판</td>\n      <td>세상 구 하다 특별하다 영웅 달콤 용감하다 어드벤처 애니메이션 후 로티 로봇 극장판...</td>\n    </tr>\n    <tr>\n      <th>305</th>\n      <td>히치하이크</td>\n      <td>홀로 서기 위 노래 범람 것 의존 하다 거대하다 대상 희구 여전하다 포기 되다 않다...</td>\n    </tr>\n    <tr>\n      <th>306</th>\n      <td>힘을 내요  미스터 리</td>\n      <td>먹다 보다 맛있다 영화 힘 요 미스터리 차승원 대사 프롤로그 추석 개봉 영화 유일하...</td>\n    </tr>\n  </tbody>\n</table>\n<p>307 rows × 2 columns</p>\n</div>"
     },
     "execution_count": 10,
     "metadata": {},
     "output_type": "execute_result"
    }
   ],
   "source": [
    "df_one_sentences"
   ],
   "metadata": {
    "collapsed": false,
    "pycharm": {
     "name": "#%%\n"
    }
   }
  },
  {
   "cell_type": "code",
   "execution_count": 12,
   "outputs": [
    {
     "data": {
      "text/plain": "                    title                                  cleaned_sentences\n0                      선물  영화 선물 주연 신하균 수호 김슬기 유수빈 월일 개봉 감독 허진호 영화 분도 안되다...\n1                  선희와 슬기  영화 선희 슬기 시사회 보다 예고편 여주 선희 거짓말 때문 벌어지다 이야기 보이다 ...\n2              세상을 바꾼 변호인  주의 글 스포 담다 있다 필자 영화 리뷰 하다 이전 제목 고민 해보다 왜 제목 이다...\n3        소피와 드래곤: 마법책의 비밀  애니메이션 피 드래곤 시사회 초대권 장 드리다 애니메이션 피 드래곤 시사회 초대권 ...\n4            소희의은근히꼴리는사생활  소희 은근 꼴리다 사생활 감독 김이슬 출연 안소희 민 도윤 개봉 대한민국 평점 리뷰...\n..                    ...                                                ...\n302            화이트 라이언 찰리  프랑스인 감독 영화 음악 자연 사자 연기 훌륭하다 원제 미아 희다 사자 번역 되다 ...\n303  회사직원과 남편 몰래 흥분하는 청순녀  신혼집 구 하다 집 보다 다니다 이마이 마이 지금 부동산 중개인 자신 학창시절 동경...\n304             후로티로봇 극장판  세상 구 하다 특별하다 영웅 달콤 용감하다 어드벤처 애니메이션 후 로티 로봇 극장판...\n305                 히치하이크  홀로 서기 위 노래 범람 것 의존 하다 거대하다 대상 희구 여전하다 포기 되다 않다...\n306          힘을 내요  미스터 리  먹다 보다 맛있다 영화 힘 요 미스터리 차승원 대사 프롤로그 추석 개봉 영화 유일하...\n\n[307 rows x 2 columns]",
      "text/html": "<div>\n<style scoped>\n    .dataframe tbody tr th:only-of-type {\n        vertical-align: middle;\n    }\n\n    .dataframe tbody tr th {\n        vertical-align: top;\n    }\n\n    .dataframe thead th {\n        text-align: right;\n    }\n</style>\n<table border=\"1\" class=\"dataframe\">\n  <thead>\n    <tr style=\"text-align: right;\">\n      <th></th>\n      <th>title</th>\n      <th>cleaned_sentences</th>\n    </tr>\n  </thead>\n  <tbody>\n    <tr>\n      <th>0</th>\n      <td>선물</td>\n      <td>영화 선물 주연 신하균 수호 김슬기 유수빈 월일 개봉 감독 허진호 영화 분도 안되다...</td>\n    </tr>\n    <tr>\n      <th>1</th>\n      <td>선희와 슬기</td>\n      <td>영화 선희 슬기 시사회 보다 예고편 여주 선희 거짓말 때문 벌어지다 이야기 보이다 ...</td>\n    </tr>\n    <tr>\n      <th>2</th>\n      <td>세상을 바꾼 변호인</td>\n      <td>주의 글 스포 담다 있다 필자 영화 리뷰 하다 이전 제목 고민 해보다 왜 제목 이다...</td>\n    </tr>\n    <tr>\n      <th>3</th>\n      <td>소피와 드래곤: 마법책의 비밀</td>\n      <td>애니메이션 피 드래곤 시사회 초대권 장 드리다 애니메이션 피 드래곤 시사회 초대권 ...</td>\n    </tr>\n    <tr>\n      <th>4</th>\n      <td>소희의은근히꼴리는사생활</td>\n      <td>소희 은근 꼴리다 사생활 감독 김이슬 출연 안소희 민 도윤 개봉 대한민국 평점 리뷰...</td>\n    </tr>\n    <tr>\n      <th>...</th>\n      <td>...</td>\n      <td>...</td>\n    </tr>\n    <tr>\n      <th>302</th>\n      <td>화이트 라이언 찰리</td>\n      <td>프랑스인 감독 영화 음악 자연 사자 연기 훌륭하다 원제 미아 희다 사자 번역 되다 ...</td>\n    </tr>\n    <tr>\n      <th>303</th>\n      <td>회사직원과 남편 몰래 흥분하는 청순녀</td>\n      <td>신혼집 구 하다 집 보다 다니다 이마이 마이 지금 부동산 중개인 자신 학창시절 동경...</td>\n    </tr>\n    <tr>\n      <th>304</th>\n      <td>후로티로봇 극장판</td>\n      <td>세상 구 하다 특별하다 영웅 달콤 용감하다 어드벤처 애니메이션 후 로티 로봇 극장판...</td>\n    </tr>\n    <tr>\n      <th>305</th>\n      <td>히치하이크</td>\n      <td>홀로 서기 위 노래 범람 것 의존 하다 거대하다 대상 희구 여전하다 포기 되다 않다...</td>\n    </tr>\n    <tr>\n      <th>306</th>\n      <td>힘을 내요  미스터 리</td>\n      <td>먹다 보다 맛있다 영화 힘 요 미스터리 차승원 대사 프롤로그 추석 개봉 영화 유일하...</td>\n    </tr>\n  </tbody>\n</table>\n<p>307 rows × 2 columns</p>\n</div>"
     },
     "execution_count": 12,
     "metadata": {},
     "output_type": "execute_result"
    }
   ],
   "source": [
    "df_one_sentences"
   ],
   "metadata": {
    "collapsed": false,
    "pycharm": {
     "name": "#%%\n"
    }
   }
  },
  {
   "cell_type": "code",
   "execution_count": null,
   "outputs": [],
   "source": [],
   "metadata": {
    "collapsed": false,
    "pycharm": {
     "name": "#%%\n"
    }
   }
  }
 ],
 "metadata": {
  "kernelspec": {
   "display_name": "Python 3",
   "language": "python",
   "name": "python3"
  },
  "language_info": {
   "codemirror_mode": {
    "name": "ipython",
    "version": 2
   },
   "file_extension": ".py",
   "mimetype": "text/x-python",
   "name": "python",
   "nbconvert_exporter": "python",
   "pygments_lexer": "ipython2",
   "version": "2.7.6"
  }
 },
 "nbformat": 4,
 "nbformat_minor": 0
}