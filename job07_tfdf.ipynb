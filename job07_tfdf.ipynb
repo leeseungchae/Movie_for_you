{
 "cells": [
  {
   "cell_type": "code",
   "execution_count": 1,
   "metadata": {
    "collapsed": true
   },
   "outputs": [],
   "source": [
    "import pandas as pd\n",
    "from sklearn.feature_extraction.text import  TfidfVectorizer\n",
    "from scipy.io import mmwrite, mmread\n",
    "import pickle"
   ]
  },
  {
   "cell_type": "code",
   "execution_count": 2,
   "outputs": [
    {
     "name": "stdout",
     "output_type": "stream",
     "text": [
      "<class 'pandas.core.frame.DataFrame'>\n",
      "RangeIndex: 1610 entries, 0 to 1609\n",
      "Data columns (total 2 columns):\n",
      " #   Column             Non-Null Count  Dtype \n",
      "---  ------             --------------  ----- \n",
      " 0   title              1610 non-null   object\n",
      " 1   cleaned_sentences  1610 non-null   object\n",
      "dtypes: object(2)\n",
      "memory usage: 25.3+ KB\n"
     ]
    }
   ],
   "source": [
    "df_reviews = pd.read_csv('./datasets/movie_review_2018_2022.csv')\n",
    "df_reviews.info()"
   ],
   "metadata": {
    "collapsed": false,
    "pycharm": {
     "name": "#%%\n"
    }
   }
  },
  {
   "cell_type": "code",
   "execution_count": 3,
   "outputs": [],
   "source": [
    "Tfidf = TfidfVectorizer(sublinear_tf=True)\n",
    "Tfidf_matrix = Tfidf.fit_transform(df_reviews['cleaned_sentences'])\n",
    "\n",
    "with open('./models/tfidf.pickle','wb') as f:\n",
    "    pickle.dump(Tfidf , f)\n",
    "mmwrite('./models/Tfidf_movie_review_mtx', Tfidf_matrix)"
   ],
   "metadata": {
    "collapsed": false,
    "pycharm": {
     "name": "#%%\n"
    }
   }
  },
  {
   "cell_type": "code",
   "execution_count": null,
   "outputs": [],
   "source": [],
   "metadata": {
    "collapsed": false,
    "pycharm": {
     "name": "#%%\n"
    }
   }
  }
 ],
 "metadata": {
  "kernelspec": {
   "display_name": "Python 3",
   "language": "python",
   "name": "python3"
  },
  "language_info": {
   "codemirror_mode": {
    "name": "ipython",
    "version": 2
   },
   "file_extension": ".py",
   "mimetype": "text/x-python",
   "name": "python",
   "nbconvert_exporter": "python",
   "pygments_lexer": "ipython2",
   "version": "2.7.6"
  }
 },
 "nbformat": 4,
 "nbformat_minor": 0
}